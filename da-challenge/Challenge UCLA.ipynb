{
 "cells": [
  {
   "cell_type": "code",
   "execution_count": 1,
   "id": "efbc70c5",
   "metadata": {
    "ExecuteTime": {
     "end_time": "2022-06-30T19:33:03.011544Z",
     "start_time": "2022-06-30T19:33:03.009223Z"
    }
   },
   "outputs": [],
   "source": [
    "import pandas as pd\n",
    "import numpy as np\n",
    "import matplotlib.pyplot as plt"
   ]
  },
  {
   "cell_type": "markdown",
   "id": "9b25a323",
   "metadata": {
    "ExecuteTime": {
     "end_time": "2022-07-01T03:16:05.450834Z",
     "start_time": "2022-07-01T03:16:05.448880Z"
    }
   },
   "source": [
    "# Merging the DataFrames\n",
    "1. Combine all vegetation_average.csv, temperatures.csv, and wear csv using the <b>name</b> column as the primary key\n",
    "2. All recorded temperatures will need to be converted to probabilities\n",
    "    - Round to the nearest hundredth\n",
    "    - then divide by 100\n",
    "    - if the value is greater than or equal to 1, then assign the probability of 1.0\n",
    "    - ex) 80.190096 -> 0.8019 \n",
    "    - ex) 101.0231 -> 1.0\n",
    "3. This combined dataframe should contain the following columns: <b>name, length, wear, vegetation, and 6-1 -> 8-31 </b>for a total of 97 columns\n"
   ]
  },
  {
   "cell_type": "code",
   "execution_count": 2,
   "id": "b6a7403a",
   "metadata": {},
   "outputs": [],
   "source": [
    "temp = pd.read_csv('temperature_data.csv').rename(columns={'Unnamed: 0':'name'})\n",
    "temp.iloc[:, 1:] = temp.iloc[:, 1:].round(decimals=0).div(100)\n",
    "temp.iloc[:, 1:] = temp.iloc[:, 1:].mask(temp.iloc[:, 1:]>1, other = 1.0)"
   ]
  },
  {
   "cell_type": "code",
   "execution_count": 3,
   "id": "5c1cc110",
   "metadata": {},
   "outputs": [],
   "source": [
    "wear = pd.read_csv('wear_data.csv').iloc[:,1:]"
   ]
  },
  {
   "cell_type": "code",
   "execution_count": 4,
   "id": "83c52b29",
   "metadata": {},
   "outputs": [],
   "source": [
    "veg = pd.read_csv('vegetation_average.csv').iloc[:, 1:]\n",
    "veg.columns = veg.columns.str.strip()\n",
    "veg = veg.transpose().reset_index()\n",
    "veg.rename(columns={'index':'name', veg.columns[1]:'vegetation'}, inplace=True)"
   ]
  },
  {
   "cell_type": "code",
   "execution_count": 5,
   "id": "272a182e",
   "metadata": {},
   "outputs": [
    {
     "data": {
      "text/html": [
       "<div>\n",
       "<style scoped>\n",
       "    .dataframe tbody tr th:only-of-type {\n",
       "        vertical-align: middle;\n",
       "    }\n",
       "\n",
       "    .dataframe tbody tr th {\n",
       "        vertical-align: top;\n",
       "    }\n",
       "\n",
       "    .dataframe thead th {\n",
       "        text-align: right;\n",
       "    }\n",
       "</style>\n",
       "<table border=\"1\" class=\"dataframe\">\n",
       "  <thead>\n",
       "    <tr style=\"text-align: right;\">\n",
       "      <th></th>\n",
       "      <th>name</th>\n",
       "      <th>length</th>\n",
       "      <th>wear</th>\n",
       "      <th>vegetation</th>\n",
       "      <th>6-1</th>\n",
       "      <th>6-2</th>\n",
       "      <th>6-3</th>\n",
       "      <th>6-4</th>\n",
       "      <th>6-5</th>\n",
       "      <th>6-6</th>\n",
       "      <th>...</th>\n",
       "      <th>8-22</th>\n",
       "      <th>8-23</th>\n",
       "      <th>8-24</th>\n",
       "      <th>8-25</th>\n",
       "      <th>8-26</th>\n",
       "      <th>8-27</th>\n",
       "      <th>8-28</th>\n",
       "      <th>8-29</th>\n",
       "      <th>8-30</th>\n",
       "      <th>8-31</th>\n",
       "    </tr>\n",
       "  </thead>\n",
       "  <tbody>\n",
       "    <tr>\n",
       "      <th>0</th>\n",
       "      <td>Humberto Perez Line</td>\n",
       "      <td>short</td>\n",
       "      <td>0.325903</td>\n",
       "      <td>0.373407</td>\n",
       "      <td>0.80</td>\n",
       "      <td>0.93</td>\n",
       "      <td>0.71</td>\n",
       "      <td>0.76</td>\n",
       "      <td>0.88</td>\n",
       "      <td>0.91</td>\n",
       "      <td>...</td>\n",
       "      <td>0.92</td>\n",
       "      <td>0.90</td>\n",
       "      <td>0.95</td>\n",
       "      <td>0.98</td>\n",
       "      <td>1.00</td>\n",
       "      <td>0.79</td>\n",
       "      <td>0.78</td>\n",
       "      <td>0.83</td>\n",
       "      <td>0.83</td>\n",
       "      <td>1.00</td>\n",
       "    </tr>\n",
       "    <tr>\n",
       "      <th>1</th>\n",
       "      <td>Kyle Bradford Line</td>\n",
       "      <td>short</td>\n",
       "      <td>0.076689</td>\n",
       "      <td>0.051829</td>\n",
       "      <td>0.95</td>\n",
       "      <td>0.78</td>\n",
       "      <td>0.95</td>\n",
       "      <td>0.87</td>\n",
       "      <td>0.74</td>\n",
       "      <td>0.97</td>\n",
       "      <td>...</td>\n",
       "      <td>0.97</td>\n",
       "      <td>1.00</td>\n",
       "      <td>0.92</td>\n",
       "      <td>0.77</td>\n",
       "      <td>0.85</td>\n",
       "      <td>1.00</td>\n",
       "      <td>0.79</td>\n",
       "      <td>0.95</td>\n",
       "      <td>0.86</td>\n",
       "      <td>0.91</td>\n",
       "    </tr>\n",
       "    <tr>\n",
       "      <th>2</th>\n",
       "      <td>Daniel Gonzalez Line</td>\n",
       "      <td>short</td>\n",
       "      <td>0.572537</td>\n",
       "      <td>0.954363</td>\n",
       "      <td>0.89</td>\n",
       "      <td>0.87</td>\n",
       "      <td>0.96</td>\n",
       "      <td>0.80</td>\n",
       "      <td>0.72</td>\n",
       "      <td>0.82</td>\n",
       "      <td>...</td>\n",
       "      <td>0.93</td>\n",
       "      <td>0.79</td>\n",
       "      <td>0.74</td>\n",
       "      <td>0.93</td>\n",
       "      <td>0.99</td>\n",
       "      <td>0.77</td>\n",
       "      <td>0.84</td>\n",
       "      <td>0.77</td>\n",
       "      <td>0.93</td>\n",
       "      <td>0.90</td>\n",
       "    </tr>\n",
       "    <tr>\n",
       "      <th>3</th>\n",
       "      <td>Cheryl White Line</td>\n",
       "      <td>long</td>\n",
       "      <td>0.958884</td>\n",
       "      <td>0.249980</td>\n",
       "      <td>0.95</td>\n",
       "      <td>0.89</td>\n",
       "      <td>0.73</td>\n",
       "      <td>0.72</td>\n",
       "      <td>0.71</td>\n",
       "      <td>0.91</td>\n",
       "      <td>...</td>\n",
       "      <td>0.77</td>\n",
       "      <td>0.98</td>\n",
       "      <td>0.84</td>\n",
       "      <td>0.80</td>\n",
       "      <td>0.80</td>\n",
       "      <td>0.81</td>\n",
       "      <td>1.00</td>\n",
       "      <td>0.81</td>\n",
       "      <td>0.99</td>\n",
       "      <td>0.87</td>\n",
       "    </tr>\n",
       "    <tr>\n",
       "      <th>4</th>\n",
       "      <td>Gordon Atkins Line</td>\n",
       "      <td>medium</td>\n",
       "      <td>0.324468</td>\n",
       "      <td>0.583971</td>\n",
       "      <td>0.71</td>\n",
       "      <td>0.77</td>\n",
       "      <td>0.81</td>\n",
       "      <td>0.71</td>\n",
       "      <td>0.93</td>\n",
       "      <td>0.77</td>\n",
       "      <td>...</td>\n",
       "      <td>0.94</td>\n",
       "      <td>0.87</td>\n",
       "      <td>0.83</td>\n",
       "      <td>0.97</td>\n",
       "      <td>0.75</td>\n",
       "      <td>0.86</td>\n",
       "      <td>1.00</td>\n",
       "      <td>0.85</td>\n",
       "      <td>0.91</td>\n",
       "      <td>0.76</td>\n",
       "    </tr>\n",
       "    <tr>\n",
       "      <th>...</th>\n",
       "      <td>...</td>\n",
       "      <td>...</td>\n",
       "      <td>...</td>\n",
       "      <td>...</td>\n",
       "      <td>...</td>\n",
       "      <td>...</td>\n",
       "      <td>...</td>\n",
       "      <td>...</td>\n",
       "      <td>...</td>\n",
       "      <td>...</td>\n",
       "      <td>...</td>\n",
       "      <td>...</td>\n",
       "      <td>...</td>\n",
       "      <td>...</td>\n",
       "      <td>...</td>\n",
       "      <td>...</td>\n",
       "      <td>...</td>\n",
       "      <td>...</td>\n",
       "      <td>...</td>\n",
       "      <td>...</td>\n",
       "      <td>...</td>\n",
       "    </tr>\n",
       "    <tr>\n",
       "      <th>1795</th>\n",
       "      <td>Ian Correa Line</td>\n",
       "      <td>medium</td>\n",
       "      <td>0.359471</td>\n",
       "      <td>0.796892</td>\n",
       "      <td>0.87</td>\n",
       "      <td>0.95</td>\n",
       "      <td>0.84</td>\n",
       "      <td>0.74</td>\n",
       "      <td>0.94</td>\n",
       "      <td>0.72</td>\n",
       "      <td>...</td>\n",
       "      <td>0.86</td>\n",
       "      <td>0.82</td>\n",
       "      <td>0.86</td>\n",
       "      <td>0.81</td>\n",
       "      <td>0.84</td>\n",
       "      <td>0.79</td>\n",
       "      <td>0.80</td>\n",
       "      <td>1.00</td>\n",
       "      <td>0.83</td>\n",
       "      <td>0.85</td>\n",
       "    </tr>\n",
       "    <tr>\n",
       "      <th>1796</th>\n",
       "      <td>Thomas Guinn Line</td>\n",
       "      <td>medium</td>\n",
       "      <td>0.444667</td>\n",
       "      <td>0.383517</td>\n",
       "      <td>0.73</td>\n",
       "      <td>0.73</td>\n",
       "      <td>0.70</td>\n",
       "      <td>0.77</td>\n",
       "      <td>0.93</td>\n",
       "      <td>0.80</td>\n",
       "      <td>...</td>\n",
       "      <td>1.00</td>\n",
       "      <td>0.92</td>\n",
       "      <td>0.97</td>\n",
       "      <td>0.82</td>\n",
       "      <td>0.75</td>\n",
       "      <td>1.00</td>\n",
       "      <td>0.74</td>\n",
       "      <td>0.83</td>\n",
       "      <td>1.00</td>\n",
       "      <td>0.83</td>\n",
       "    </tr>\n",
       "    <tr>\n",
       "      <th>1797</th>\n",
       "      <td>Charles Sparks Line</td>\n",
       "      <td>medium</td>\n",
       "      <td>0.748239</td>\n",
       "      <td>0.400369</td>\n",
       "      <td>0.96</td>\n",
       "      <td>0.92</td>\n",
       "      <td>0.87</td>\n",
       "      <td>0.80</td>\n",
       "      <td>0.77</td>\n",
       "      <td>0.70</td>\n",
       "      <td>...</td>\n",
       "      <td>0.99</td>\n",
       "      <td>0.85</td>\n",
       "      <td>1.00</td>\n",
       "      <td>0.77</td>\n",
       "      <td>0.75</td>\n",
       "      <td>0.83</td>\n",
       "      <td>0.87</td>\n",
       "      <td>1.00</td>\n",
       "      <td>0.98</td>\n",
       "      <td>0.92</td>\n",
       "    </tr>\n",
       "    <tr>\n",
       "      <th>1798</th>\n",
       "      <td>Linda Santos Line</td>\n",
       "      <td>long</td>\n",
       "      <td>0.652229</td>\n",
       "      <td>0.233560</td>\n",
       "      <td>0.77</td>\n",
       "      <td>0.74</td>\n",
       "      <td>0.85</td>\n",
       "      <td>0.90</td>\n",
       "      <td>0.84</td>\n",
       "      <td>0.77</td>\n",
       "      <td>...</td>\n",
       "      <td>0.95</td>\n",
       "      <td>0.94</td>\n",
       "      <td>0.84</td>\n",
       "      <td>0.88</td>\n",
       "      <td>0.86</td>\n",
       "      <td>0.79</td>\n",
       "      <td>1.00</td>\n",
       "      <td>0.79</td>\n",
       "      <td>0.88</td>\n",
       "      <td>0.93</td>\n",
       "    </tr>\n",
       "    <tr>\n",
       "      <th>1799</th>\n",
       "      <td>Timothy Diehl Line</td>\n",
       "      <td>medium</td>\n",
       "      <td>0.222316</td>\n",
       "      <td>0.573788</td>\n",
       "      <td>0.79</td>\n",
       "      <td>0.85</td>\n",
       "      <td>0.77</td>\n",
       "      <td>0.79</td>\n",
       "      <td>0.70</td>\n",
       "      <td>0.72</td>\n",
       "      <td>...</td>\n",
       "      <td>0.76</td>\n",
       "      <td>0.78</td>\n",
       "      <td>1.00</td>\n",
       "      <td>0.74</td>\n",
       "      <td>0.95</td>\n",
       "      <td>0.96</td>\n",
       "      <td>0.96</td>\n",
       "      <td>0.95</td>\n",
       "      <td>0.83</td>\n",
       "      <td>0.87</td>\n",
       "    </tr>\n",
       "  </tbody>\n",
       "</table>\n",
       "<p>1800 rows × 97 columns</p>\n",
       "</div>"
      ],
      "text/plain": [
       "                      name  length      wear  vegetation   6-1   6-2   6-3  \\\n",
       "0      Humberto Perez Line   short  0.325903    0.373407  0.80  0.93  0.71   \n",
       "1       Kyle Bradford Line   short  0.076689    0.051829  0.95  0.78  0.95   \n",
       "2     Daniel Gonzalez Line   short  0.572537    0.954363  0.89  0.87  0.96   \n",
       "3        Cheryl White Line    long  0.958884    0.249980  0.95  0.89  0.73   \n",
       "4       Gordon Atkins Line  medium  0.324468    0.583971  0.71  0.77  0.81   \n",
       "...                    ...     ...       ...         ...   ...   ...   ...   \n",
       "1795       Ian Correa Line  medium  0.359471    0.796892  0.87  0.95  0.84   \n",
       "1796     Thomas Guinn Line  medium  0.444667    0.383517  0.73  0.73  0.70   \n",
       "1797   Charles Sparks Line  medium  0.748239    0.400369  0.96  0.92  0.87   \n",
       "1798     Linda Santos Line    long  0.652229    0.233560  0.77  0.74  0.85   \n",
       "1799    Timothy Diehl Line  medium  0.222316    0.573788  0.79  0.85  0.77   \n",
       "\n",
       "       6-4   6-5   6-6  ...  8-22  8-23  8-24  8-25  8-26  8-27  8-28  8-29  \\\n",
       "0     0.76  0.88  0.91  ...  0.92  0.90  0.95  0.98  1.00  0.79  0.78  0.83   \n",
       "1     0.87  0.74  0.97  ...  0.97  1.00  0.92  0.77  0.85  1.00  0.79  0.95   \n",
       "2     0.80  0.72  0.82  ...  0.93  0.79  0.74  0.93  0.99  0.77  0.84  0.77   \n",
       "3     0.72  0.71  0.91  ...  0.77  0.98  0.84  0.80  0.80  0.81  1.00  0.81   \n",
       "4     0.71  0.93  0.77  ...  0.94  0.87  0.83  0.97  0.75  0.86  1.00  0.85   \n",
       "...    ...   ...   ...  ...   ...   ...   ...   ...   ...   ...   ...   ...   \n",
       "1795  0.74  0.94  0.72  ...  0.86  0.82  0.86  0.81  0.84  0.79  0.80  1.00   \n",
       "1796  0.77  0.93  0.80  ...  1.00  0.92  0.97  0.82  0.75  1.00  0.74  0.83   \n",
       "1797  0.80  0.77  0.70  ...  0.99  0.85  1.00  0.77  0.75  0.83  0.87  1.00   \n",
       "1798  0.90  0.84  0.77  ...  0.95  0.94  0.84  0.88  0.86  0.79  1.00  0.79   \n",
       "1799  0.79  0.70  0.72  ...  0.76  0.78  1.00  0.74  0.95  0.96  0.96  0.95   \n",
       "\n",
       "      8-30  8-31  \n",
       "0     0.83  1.00  \n",
       "1     0.86  0.91  \n",
       "2     0.93  0.90  \n",
       "3     0.99  0.87  \n",
       "4     0.91  0.76  \n",
       "...    ...   ...  \n",
       "1795  0.83  0.85  \n",
       "1796  1.00  0.83  \n",
       "1797  0.98  0.92  \n",
       "1798  0.88  0.93  \n",
       "1799  0.83  0.87  \n",
       "\n",
       "[1800 rows x 97 columns]"
      ]
     },
     "execution_count": 5,
     "metadata": {},
     "output_type": "execute_result"
    }
   ],
   "source": [
    "merged_df = wear.merge(veg, how='outer', on='name')\n",
    "merged_df = merged_df.merge(temp, how='outer', on='name')\n",
    "merged_df"
   ]
  },
  {
   "cell_type": "markdown",
   "id": "31bb3708",
   "metadata": {},
   "source": [
    "# Creating FireLineRisk class (1-6)\n",
    "This class should accept one argument called df that is the dataframe created above. You will refer to this dataframe as self.df throughout the class\n",
    "\n",
    "1. Create a method called <b>calculate_risk_by_day</b>\n",
    "    - it must accept vegetation, wear, weather and return the product of the 3\n",
    "2. Create method called <b>create_risk_df</b>\n",
    "    - it will generate a dataframe that will be stored as a class attribute called <b>risk_df</b>, it will return nothing.\n",
    "    - A probability must be calculated for each day using using the formula from step 1\n",
    "    - this new dataframe should have a column for <b>name, length, and  6-1 -> 8-31</b>\n",
    "3. Create a method called <b>show_probability_histogram</b>\n",
    "    - Using matplotlib create a histogram based on the average probabilities of each line\n",
    "        - remember each line will contain 93 probabilities, it is the average of these values\n",
    "    - add a parameter called <b>with_average</b> and set it equal to False by default\n",
    "    - when this parameter is True draw a vertical line where the average of all averages is located\n",
    "    - Even if with_average is False, generate the average value is it will be stored in your title\n",
    "    - add this title \"Fire Probability by Frequency (Average of {<b>the average you have calculated</b>})\"\n",
    "    - the label of y the axis \"Frequency\"\n",
    "    - the label of the x axis \"Fire Probability\"\n",
    "4. Create a method called <b>plot_by_length</b>, a plot with three lines, that will contain a list of average probabilities based on <b>length</b> ( short/medium/long )\n",
    "    - sort the data from least to greatest and plot\n",
    "    - all lines should be in a different color\n",
    "    - include a legend that will distinguish which lines belong to what length ( short/medium/long )\n",
    "    - title: \"Probabilities By Line\", x axis title: \"Lines\", y axis title: \"Fire Probability\"\n",
    "5. There is a probability threshold of 0.35, when probabilities are greater than this value, the company is forced to shut off power to avoid any fires. This costs <b>150 dollars</b> on a per line basis\n",
    "    - create a method called <b>total_cost</b> that takes a parameter <b>threshold</b> that is set to 0.35 by default\n",
    "    - return the total cost for all lines and days\n",
    "6. Determine the total cost by month and create a bar chart\n",
    "    - create a method called <b>total_cost_by_month</b> that shows a bar chart for each month and returns dictionary where month (\"june\", \"july\", and \"august\") are the keys and the values are the sum\n",
    "    - add labels to the chart that best describe each axis and title\n",
    "    - make sure each are a different color"
   ]
  },
  {
   "cell_type": "code",
   "execution_count": 6,
   "id": "dacc28a4",
   "metadata": {},
   "outputs": [],
   "source": [
    "class FireLineRisk:\n",
    "    \n",
    "    def __init__(self, df):\n",
    "        self.df = df\n",
    "        \n",
    "    def calculate_risk_by_day(self, df):\n",
    "        cal_df = df.copy()\n",
    "        cal_df.iloc[:,4:] = cal_df.iloc[:,4:].multiply(df.loc[:, 'wear'], axis=\"index\")\n",
    "        cal_df.iloc[:,4:] = cal_df.iloc[:,4:].multiply(df.loc[:, 'vegetation'], axis=\"index\")\n",
    "        return cal_df\n",
    "    \n",
    "    def create_risk_df(self):\n",
    "        self.risk_df = self.calculate_risk_by_day(self.df)\n",
    "        self.risk_df = self.risk_df.drop(columns=['wear', 'vegetation'])\n",
    "        return\n",
    "    \n",
    "    def show_probability_histogram(self, with_average = False):\n",
    "        df = self.risk_df.copy()\n",
    "        df['avg'] = df.iloc[:, 2:].mean(axis=1)\n",
    "        plt.hist(df['avg'])\n",
    "        avg = df['avg'].mean()\n",
    "        if with_average == True:\n",
    "            plt.axvline(x=avg, color='gold') \n",
    "        plt.xlabel('Fire Probability')\n",
    "        plt.ylabel('Frequency')\n",
    "        plt.title(\"Fire Probability vs. Frequency (Average of %1.2f)\" %avg)\n",
    "        return\n",
    "    \n",
    "    def plot_by_length(self):\n",
    "        df = self.risk_df.copy()\n",
    "        df['avg'] = df.iloc[:, 2:].mean(axis=1)\n",
    "        short = df.loc[df['length']=='short', \n",
    "                       ['name', 'length', 'avg']].sort_values(by='avg').reset_index()\n",
    "        medium = df.loc[df['length']=='medium', \n",
    "                        ['name', 'length', 'avg']].sort_values(by='avg').reset_index()\n",
    "        long = df.loc[df['length']=='long', \n",
    "                      ['name', 'length', 'avg']].sort_values(by='avg').reset_index()\n",
    "        plt.plot(short.index,short['avg'], label='Short Length')\n",
    "        plt.plot(medium.index,medium['avg'], label='Medium Length')\n",
    "        plt.plot(long.index,long['avg'], label='Long Length')\n",
    "        plt.legend()\n",
    "        plt.xlabel('Lines')\n",
    "        plt.ylabel('Fire Probability')\n",
    "        plt.title('Probabilities By Line')\n",
    "        return\n",
    "    \n",
    "    def total_cost(self, threshold=0.35):\n",
    "        sum_df = self.risk_df.copy()\n",
    "        sum_df.iloc[:, 2:] = sum_df.iloc[:, 2:].mask(sum_df.iloc[:, 2:]>=threshold, 150)\n",
    "        sum_df.iloc[:, 2:] = sum_df.iloc[:, 2:].mask(sum_df.iloc[:, 2:]<threshold, 0)\n",
    "        return sum_df, sum_df.iloc[:, 2:].sum().sum()\n",
    "    \n",
    "    def total_cost_by_month(self):\n",
    "        sum_df, total = self.total_cost()\n",
    "        june = sum_df.iloc[:, 2:33]\n",
    "        july = sum_df.iloc[:, 33:64]\n",
    "        august = sum_df.iloc[:, 64:]\n",
    "        plt.bar(x = ['June', 'July', 'August'], \n",
    "                height = [june.sum().sum(), july.sum().sum(), august.sum().sum()],\n",
    "               color = ['blue', 'gold', 'magenta'])\n",
    "        plt.xlabel('Month')\n",
    "        plt.ylabel('Cost')\n",
    "        plt.title('Total Cost By Month')\n",
    "        return june.sum().sum(), july.sum().sum(), august.sum().sum()\n",
    "        "
   ]
  },
  {
   "cell_type": "code",
   "execution_count": 7,
   "id": "3d270910",
   "metadata": {},
   "outputs": [],
   "source": [
    "obj = FireLineRisk(merged_df)\n",
    "obj.create_risk_df()"
   ]
  },
  {
   "cell_type": "code",
   "execution_count": 8,
   "id": "97a84b5f",
   "metadata": {},
   "outputs": [
    {
     "data": {
      "image/png": "[encoded data removed]",
      "text/plain": [
       "<Figure size 432x288 with 1 Axes>"
      ]
     },
     "metadata": {
      "needs_background": "light"
     },
     "output_type": "display_data"
    }
   ],
   "source": [
    "obj.show_probability_histogram(True)"
   ]
  },
  {
   "cell_type": "code",
   "execution_count": 9,
   "id": "fa6b32a2",
   "metadata": {},
   "outputs": [
    {
     "data": {
      "image/png": "[encoded data removed]",
      "text/plain": [
       "<Figure size 432x288 with 1 Axes>"
      ]
     },
     "metadata": {
      "needs_background": "light"
     },
     "output_type": "display_data"
    }
   ],
   "source": [
    "obj.plot_by_length()"
   ]
  },
  {
   "cell_type": "code",
   "execution_count": 10,
   "id": "2ec72b15",
   "metadata": {},
   "outputs": [
    {
     "name": "stdout",
     "output_type": "stream",
     "text": [
      "june: 1737750.0\n",
      "july: 2014800.0\n",
      "aug: 1948950.0\n",
      "The total cost is 5701500.0\n",
      "True\n"
     ]
    },
    {
     "data": {
      "image/png": "[encoded data removed]",
      "text/plain": [
       "<Figure size 432x288 with 1 Axes>"
      ]
     },
     "metadata": {
      "needs_background": "light"
     },
     "output_type": "display_data"
    }
   ],
   "source": [
    "sum_df, total = obj.total_cost()\n",
    "june, july, aug = obj.total_cost_by_month()\n",
    "print('june: ' + str(june))\n",
    "print('july: ' + str(july))\n",
    "print('aug: ' + str(aug))\n",
    "print('The total cost is ' + str(june+july+aug))\n",
    "print(june+july+aug == total)"
   ]
  },
  {
   "cell_type": "markdown",
   "id": "b1f6dc32",
   "metadata": {},
   "source": [
    "--- \n",
    "# 7. Performing fixed-cost mitigation"
   ]
  },
  {
   "cell_type": "markdown",
   "id": "e728d60d",
   "metadata": {},
   "source": [
    "Vegetation Management plays a huge role in mitigating fires. Trees that collapse on powerlines may ignite massive fires and cause catastrophic damages.\n",
    "    - Performing this mitigation action reduces the **vegetation probability in half** at a large cost of **50,000 dollars per line**\n",
    "    - Determine which lines need vegetation management to save the most money"
   ]
  },
  {
   "cell_type": "markdown",
   "id": "3a5ddf46",
   "metadata": {},
   "source": [
    "## Helper function:"
   ]
  },
  {
   "cell_type": "code",
   "execution_count": 11,
   "id": "1409e450",
   "metadata": {},
   "outputs": [],
   "source": [
    "def veg_manage(m_threshold, df):\n",
    "    df = df.copy()\n",
    "    old = FireLineRisk(df)\n",
    "    old.create_risk_df()\n",
    "    before_sum_df, before_cost = old.total_cost()\n",
    "    before_sum_df['sum'] = before_sum_df.iloc[:, 2:].sum(axis=1)\n",
    "    to_be_mitigated = before_sum_df.loc[before_sum_df['sum'] > m_threshold]['name']\n",
    "    df.loc[df['name'].isin(to_be_mitigated), 'vegetation'] = df.loc[df['name'].isin(to_be_mitigated), 'vegetation']*0.5\n",
    "    new = FireLineRisk(df)\n",
    "    new.create_risk_df()\n",
    "    after_sum_df, after_cost = new.total_cost()\n",
    "    return after_cost+len(to_be_mitigated)*50000\n"
   ]
  },
  {
   "cell_type": "markdown",
   "id": "d47bb466",
   "metadata": {},
   "source": [
    "## Reasoning:\n",
    "We can choose the cost $C$, which is \"m_threshold\" in the function above, as the variable to be optimized. If the cost of one line is greater than $C$, then we perform a 50000-dollar mitigation and compare the \"before_cost\" and \"after_cost\". Our goal is to optimize this variable $C$ to make after_cost as small as possible. \n",
    "\n",
    "The maximal cost of one line in 93 days is: $150*93=13950$. Thus, we set the upper limit to be 13950, i.e., over this limit, no mitigation will be performed and no difference between the before_cost and after_cost."
   ]
  },
  {
   "cell_type": "markdown",
   "id": "004a110a",
   "metadata": {},
   "source": [
    "## Optimization:"
   ]
  },
  {
   "cell_type": "code",
   "execution_count": 12,
   "id": "e0680a59",
   "metadata": {},
   "outputs": [],
   "source": [
    "x = np.empty([100,]).astype(int)\n",
    "y = np.empty([100,]).astype(int)\n",
    "index = 0\n",
    "step_size = 300    \n",
    "for i in range(0, 13950+3000, step_size): \n",
    "    index+=1\n",
    "    x[index] = index\n",
    "    y[index] = veg_manage(i, merged_df)\n",
    "y = y[1:index]\n",
    "x = x[:index-1]*300"
   ]
  },
  {
   "cell_type": "code",
   "execution_count": 13,
   "id": "4fe8dce9",
   "metadata": {},
   "outputs": [
    {
     "data": {
      "image/png": "[encoded data removed]",
      "text/plain": [
       "<Figure size 1152x648 with 1 Axes>"
      ]
     },
     "metadata": {
      "needs_background": "light"
     },
     "output_type": "display_data"
    }
   ],
   "source": [
    "plt.figure(figsize=(16, 9))\n",
    "plt.plot(x[1:index+2].astype(int), y[1:index+2].astype(int))\n",
    "plt.axhline(5701500, color='gold',linestyle=\"--\", label='Not performing mitigation, 5701500')\n",
    "plt.axhline(y[0], color='magenta', linestyle=\"--\", label='Performing full mitigation, %d' %y[0])\n",
    "plt.legend(loc='center left')\n",
    "plt.ticklabel_format(style='plain')\n",
    "plt.xlabel('threshold')\n",
    "plt.ylabel('Cost')\n",
    "plt.title('Mitigation Threshold vs. After Cost')\n",
    "plt.show()"
   ]
  },
  {
   "cell_type": "markdown",
   "id": "72d4e0a5",
   "metadata": {},
   "source": [
    "--- \n",
    "\n",
    "## Testing section\n",
    "The following step-by-step test performs mitigation to lines with a shutdown number greater than 0. The final cost is very likely to be accurate because the class functions and the \"merged_df\" dataframe being used here are correct according to the output of problem 1-6. And the output of problem 1-6 is correct according to the instruction. The function \"veg_manage\" is not used here."
   ]
  },
  {
   "cell_type": "markdown",
   "id": "adeca45b",
   "metadata": {},
   "source": [
    "#### Using the original data with old vegetation:"
   ]
  },
  {
   "cell_type": "code",
   "execution_count": 14,
   "id": "4afc0905",
   "metadata": {},
   "outputs": [
    {
     "name": "stdout",
     "output_type": "stream",
     "text": [
      "(1800, 95)\n"
     ]
    },
    {
     "data": {
      "text/html": [
       "<div>\n",
       "<style scoped>\n",
       "    .dataframe tbody tr th:only-of-type {\n",
       "        vertical-align: middle;\n",
       "    }\n",
       "\n",
       "    .dataframe tbody tr th {\n",
       "        vertical-align: top;\n",
       "    }\n",
       "\n",
       "    .dataframe thead th {\n",
       "        text-align: right;\n",
       "    }\n",
       "</style>\n",
       "<table border=\"1\" class=\"dataframe\">\n",
       "  <thead>\n",
       "    <tr style=\"text-align: right;\">\n",
       "      <th></th>\n",
       "      <th>name</th>\n",
       "      <th>length</th>\n",
       "      <th>6-1</th>\n",
       "      <th>6-2</th>\n",
       "      <th>6-3</th>\n",
       "      <th>6-4</th>\n",
       "      <th>6-5</th>\n",
       "      <th>6-6</th>\n",
       "      <th>6-7</th>\n",
       "      <th>6-8</th>\n",
       "      <th>...</th>\n",
       "      <th>8-22</th>\n",
       "      <th>8-23</th>\n",
       "      <th>8-24</th>\n",
       "      <th>8-25</th>\n",
       "      <th>8-26</th>\n",
       "      <th>8-27</th>\n",
       "      <th>8-28</th>\n",
       "      <th>8-29</th>\n",
       "      <th>8-30</th>\n",
       "      <th>8-31</th>\n",
       "    </tr>\n",
       "  </thead>\n",
       "  <tbody>\n",
       "    <tr>\n",
       "      <th>0</th>\n",
       "      <td>Humberto Perez Line</td>\n",
       "      <td>short</td>\n",
       "      <td>0.097355</td>\n",
       "      <td>0.113176</td>\n",
       "      <td>0.086403</td>\n",
       "      <td>0.092488</td>\n",
       "      <td>0.107091</td>\n",
       "      <td>0.110742</td>\n",
       "      <td>0.099789</td>\n",
       "      <td>0.090054</td>\n",
       "      <td>...</td>\n",
       "      <td>0.111959</td>\n",
       "      <td>0.109525</td>\n",
       "      <td>0.115609</td>\n",
       "      <td>0.119260</td>\n",
       "      <td>0.121694</td>\n",
       "      <td>0.096138</td>\n",
       "      <td>0.094921</td>\n",
       "      <td>0.101006</td>\n",
       "      <td>0.101006</td>\n",
       "      <td>0.121694</td>\n",
       "    </tr>\n",
       "    <tr>\n",
       "      <th>1</th>\n",
       "      <td>Kyle Bradford Line</td>\n",
       "      <td>short</td>\n",
       "      <td>0.003776</td>\n",
       "      <td>0.003100</td>\n",
       "      <td>0.003776</td>\n",
       "      <td>0.003458</td>\n",
       "      <td>0.002941</td>\n",
       "      <td>0.003855</td>\n",
       "      <td>0.002941</td>\n",
       "      <td>0.003657</td>\n",
       "      <td>...</td>\n",
       "      <td>0.003855</td>\n",
       "      <td>0.003975</td>\n",
       "      <td>0.003657</td>\n",
       "      <td>0.003060</td>\n",
       "      <td>0.003378</td>\n",
       "      <td>0.003975</td>\n",
       "      <td>0.003140</td>\n",
       "      <td>0.003776</td>\n",
       "      <td>0.003418</td>\n",
       "      <td>0.003617</td>\n",
       "    </tr>\n",
       "    <tr>\n",
       "      <th>2</th>\n",
       "      <td>Daniel Gonzalez Line</td>\n",
       "      <td>short</td>\n",
       "      <td>0.486303</td>\n",
       "      <td>0.475375</td>\n",
       "      <td>0.524552</td>\n",
       "      <td>0.437127</td>\n",
       "      <td>0.393414</td>\n",
       "      <td>0.448055</td>\n",
       "      <td>0.437127</td>\n",
       "      <td>0.398878</td>\n",
       "      <td>...</td>\n",
       "      <td>0.508160</td>\n",
       "      <td>0.431663</td>\n",
       "      <td>0.404342</td>\n",
       "      <td>0.508160</td>\n",
       "      <td>0.540944</td>\n",
       "      <td>0.420734</td>\n",
       "      <td>0.458983</td>\n",
       "      <td>0.420734</td>\n",
       "      <td>0.508160</td>\n",
       "      <td>0.491767</td>\n",
       "    </tr>\n",
       "    <tr>\n",
       "      <th>3</th>\n",
       "      <td>Cheryl White Line</td>\n",
       "      <td>long</td>\n",
       "      <td>0.227717</td>\n",
       "      <td>0.213335</td>\n",
       "      <td>0.174983</td>\n",
       "      <td>0.172586</td>\n",
       "      <td>0.170189</td>\n",
       "      <td>0.218129</td>\n",
       "      <td>0.184571</td>\n",
       "      <td>0.215732</td>\n",
       "      <td>...</td>\n",
       "      <td>0.184571</td>\n",
       "      <td>0.234908</td>\n",
       "      <td>0.201350</td>\n",
       "      <td>0.191762</td>\n",
       "      <td>0.191762</td>\n",
       "      <td>0.194159</td>\n",
       "      <td>0.239702</td>\n",
       "      <td>0.194159</td>\n",
       "      <td>0.237305</td>\n",
       "      <td>0.208541</td>\n",
       "    </tr>\n",
       "    <tr>\n",
       "      <th>4</th>\n",
       "      <td>Gordon Atkins Line</td>\n",
       "      <td>medium</td>\n",
       "      <td>0.134531</td>\n",
       "      <td>0.145900</td>\n",
       "      <td>0.153479</td>\n",
       "      <td>0.134531</td>\n",
       "      <td>0.176216</td>\n",
       "      <td>0.145900</td>\n",
       "      <td>0.164848</td>\n",
       "      <td>0.157268</td>\n",
       "      <td>...</td>\n",
       "      <td>0.178111</td>\n",
       "      <td>0.164848</td>\n",
       "      <td>0.157268</td>\n",
       "      <td>0.183796</td>\n",
       "      <td>0.142110</td>\n",
       "      <td>0.162953</td>\n",
       "      <td>0.189480</td>\n",
       "      <td>0.161058</td>\n",
       "      <td>0.172427</td>\n",
       "      <td>0.144005</td>\n",
       "    </tr>\n",
       "  </tbody>\n",
       "</table>\n",
       "<p>5 rows × 95 columns</p>\n",
       "</div>"
      ],
      "text/plain": [
       "                   name  length       6-1       6-2       6-3       6-4  \\\n",
       "0   Humberto Perez Line   short  0.097355  0.113176  0.086403  0.092488   \n",
       "1    Kyle Bradford Line   short  0.003776  0.003100  0.003776  0.003458   \n",
       "2  Daniel Gonzalez Line   short  0.486303  0.475375  0.524552  0.437127   \n",
       "3     Cheryl White Line    long  0.227717  0.213335  0.174983  0.172586   \n",
       "4    Gordon Atkins Line  medium  0.134531  0.145900  0.153479  0.134531   \n",
       "\n",
       "        6-5       6-6       6-7       6-8  ...      8-22      8-23      8-24  \\\n",
       "0  0.107091  0.110742  0.099789  0.090054  ...  0.111959  0.109525  0.115609   \n",
       "1  0.002941  0.003855  0.002941  0.003657  ...  0.003855  0.003975  0.003657   \n",
       "2  0.393414  0.448055  0.437127  0.398878  ...  0.508160  0.431663  0.404342   \n",
       "3  0.170189  0.218129  0.184571  0.215732  ...  0.184571  0.234908  0.201350   \n",
       "4  0.176216  0.145900  0.164848  0.157268  ...  0.178111  0.164848  0.157268   \n",
       "\n",
       "       8-25      8-26      8-27      8-28      8-29      8-30      8-31  \n",
       "0  0.119260  0.121694  0.096138  0.094921  0.101006  0.101006  0.121694  \n",
       "1  0.003060  0.003378  0.003975  0.003140  0.003776  0.003418  0.003617  \n",
       "2  0.508160  0.540944  0.420734  0.458983  0.420734  0.508160  0.491767  \n",
       "3  0.191762  0.191762  0.194159  0.239702  0.194159  0.237305  0.208541  \n",
       "4  0.183796  0.142110  0.162953  0.189480  0.161058  0.172427  0.144005  \n",
       "\n",
       "[5 rows x 95 columns]"
      ]
     },
     "execution_count": 14,
     "metadata": {},
     "output_type": "execute_result"
    }
   ],
   "source": [
    "df = merged_df.copy()\n",
    "old = FireLineRisk(df)\n",
    "old.create_risk_df()\n",
    "print(old.risk_df.shape)\n",
    "old.risk_df.head()"
   ]
  },
  {
   "cell_type": "markdown",
   "id": "fcb60fc3",
   "metadata": {},
   "source": [
    "#### Calculating the daily cost for each line:"
   ]
  },
  {
   "cell_type": "code",
   "execution_count": 15,
   "id": "57705d30",
   "metadata": {},
   "outputs": [
    {
     "name": "stdout",
     "output_type": "stream",
     "text": [
      "5701500.0, consistent with 1-6\n"
     ]
    }
   ],
   "source": [
    "before_sum_df, before_cost = old.total_cost()\n",
    "print(str(before_cost) + ', consistent with 1-6')"
   ]
  },
  {
   "cell_type": "markdown",
   "id": "c499af09",
   "metadata": {},
   "source": [
    "#### Calculate the 93-day-sum of cost for each line, and add a 'sum' column:"
   ]
  },
  {
   "cell_type": "code",
   "execution_count": 16,
   "id": "52935454",
   "metadata": {},
   "outputs": [
    {
     "name": "stdout",
     "output_type": "stream",
     "text": [
      "the #2 line shuts down everyday, so 13950, consistent with 1-6\n"
     ]
    },
    {
     "data": {
      "text/plain": [
       "0           0.0\n",
       "1           0.0\n",
       "2       13950.0\n",
       "3           0.0\n",
       "4           0.0\n",
       "         ...   \n",
       "1795        0.0\n",
       "1796        0.0\n",
       "1797        0.0\n",
       "1798        0.0\n",
       "1799        0.0\n",
       "Name: sum, Length: 1800, dtype: float64"
      ]
     },
     "execution_count": 16,
     "metadata": {},
     "output_type": "execute_result"
    }
   ],
   "source": [
    "before_sum_df['sum'] = before_sum_df.iloc[:, 2:].sum(axis=1)\n",
    "print('the #2 line shuts down everyday, so 13950, consistent with 1-6')\n",
    "before_sum_df['sum']"
   ]
  },
  {
   "cell_type": "markdown",
   "id": "4aca773b",
   "metadata": {},
   "source": [
    "#### If 'sum' is greater than 0, then perform a vegetation mitigation. That is, if a line has any shutdown throughout 93 days, perform a mitigation on it."
   ]
  },
  {
   "cell_type": "code",
   "execution_count": 17,
   "id": "a2a7f8f3",
   "metadata": {},
   "outputs": [
    {
     "data": {
      "text/plain": [
       "2         Daniel Gonzalez Line\n",
       "14           Marion Hayes Line\n",
       "18            Debbie Hall Line\n",
       "21            Buford Deno Line\n",
       "27          Jason Abshire Line\n",
       "                 ...          \n",
       "1782    Christopher Bruce Line\n",
       "1783          John Garcia Line\n",
       "1786          Julio Reiff Line\n",
       "1787        Melanie Allen Line\n",
       "1791         Dana Roberts Line\n",
       "Name: name, Length: 528, dtype: object"
      ]
     },
     "execution_count": 17,
     "metadata": {},
     "output_type": "execute_result"
    }
   ],
   "source": [
    "to_be_mitigated = before_sum_df.loc[before_sum_df['sum'] > 0]['name']\n",
    "df.loc[df['name'].isin(to_be_mitigated), 'vegetation'] = df.loc[df['name'].isin(to_be_mitigated), 'vegetation']*0.5\n",
    "to_be_mitigated"
   ]
  },
  {
   "cell_type": "markdown",
   "id": "f95b3a9a",
   "metadata": {},
   "source": [
    "#### Using new data with new vegetation:"
   ]
  },
  {
   "cell_type": "code",
   "execution_count": 18,
   "id": "54317f9f",
   "metadata": {},
   "outputs": [],
   "source": [
    "new = FireLineRisk(df)\n",
    "new.create_risk_df()\n",
    "after_sum_df, after_cost = new.total_cost()"
   ]
  },
  {
   "cell_type": "markdown",
   "id": "d2ab5a63",
   "metadata": {},
   "source": [
    "#### Adding up the shutdown cost and the mitigation cost:"
   ]
  },
  {
   "cell_type": "code",
   "execution_count": 19,
   "id": "a05d1771",
   "metadata": {},
   "outputs": [
    {
     "data": {
      "text/plain": [
       "26736300.0"
      ]
     },
     "execution_count": 19,
     "metadata": {},
     "output_type": "execute_result"
    }
   ],
   "source": [
    "after_cost += len(to_be_mitigated)*50000\n",
    "after_cost"
   ]
  },
  {
   "cell_type": "markdown",
   "id": "1a8f790f",
   "metadata": {},
   "source": [
    "#### Consistent with the plot above."
   ]
  },
  {
   "cell_type": "markdown",
   "id": "5c925404",
   "metadata": {},
   "source": [
    "## Temporary Conclusion\n",
    "Similar to optimizing the threshold on 'vegetation', optimizing the cost threshold also leads to the same result, as I have mentioned in the meeting: \n",
    "\n",
    "**The optimization function is monotonic**, meaning that not performing mitigation is the cheapest solution, and performing full mitigation on all lines is the most expensive one."
   ]
  },
  {
   "cell_type": "markdown",
   "id": "b47a970a",
   "metadata": {},
   "source": [
    "--- \n",
    "# 8. Mitigation combinations\n",
    "The company has set the threshold to 0.2, but now vegetation management cost will vary based on length. The users have the ability to choose mitigation of the current lines <b>size or smaller</b>. Meaning if I have a large line I can decide to manage a smaller portion of the line for a smaller fee and for a smaller impact on the vegetation probability\n",
    "    - small = 15,000 dollars, mitigation impact (small = 0.5, medium = 0.35, large=0.2)\n",
    "    - medium = 30,000 dollars, mitigation impact (medium = 0.5, large=0.25)\n",
    "    - large = 50,000 dollars, mitigation impact (large = 0.5)\n",
    "    \n",
    "    ex) large line, vegetation probability of 0.8\n",
    "        - at large vegetation management for 50,000 dollars we reduce the probability of vegetation to 0.4 ((1-0.5) * 0.8)\n",
    "        - at medium vegetation management for 30,000 dollars we reduce the probability of vegetation to 0.52 ((1-0.35) * 0.8)\n",
    "        - at small vegetation management for 15,000 dollars we reduce the probability of vegetation to 0.64 ((1-0.2) * 0.8)\n",
    "        \n",
    "    - using all of this information, determine the overall cost before vegetation management where the threshold is 0.2\n",
    "    - determine the lowest cost based on optimal use of the vegetation management system\n",
    "    - create a dictionary for each line with the following keys and them to list, then create a dataframe with this information\n",
    "       - original cost\n",
    "       - reduced cost\n",
    "       - length\n",
    "       - mitigation size\n",
    "    - Fill original cost and reduced cost with the same value if they are identical and set mitigation size to null if no mitigation was performed <b>Mitigation = Vegetation Management</b>\n"
   ]
  },
  {
   "cell_type": "code",
   "execution_count": 20,
   "id": "7233ae8b",
   "metadata": {},
   "outputs": [],
   "source": [
    "# To be done"
   ]
  },
  {
   "cell_type": "code",
   "execution_count": null,
   "id": "5143f274",
   "metadata": {},
   "outputs": [],
   "source": []
  }
 ],
 "metadata": {
  "kernelspec": {
   "display_name": "Python 3 (ipykernel)",
   "language": "python",
   "name": "python3"
  },
  "language_info": {
   "codemirror_mode": {
    "name": "ipython",
    "version": 3
   },
   "file_extension": ".py",
   "mimetype": "text/x-python",
   "name": "python",
   "nbconvert_exporter": "python",
   "pygments_lexer": "ipython3",
   "version": "3.9.7"
  }
 },
 "nbformat": 4,
 "nbformat_minor": 5
}
